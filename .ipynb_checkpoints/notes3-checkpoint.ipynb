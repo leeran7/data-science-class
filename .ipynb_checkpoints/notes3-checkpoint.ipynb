{
 "cells": [
  {
   "cell_type": "code",
   "execution_count": 3,
   "id": "cae4bff2",
   "metadata": {},
   "outputs": [],
   "source": [
    "seq = ['a', 'b', 'c', 'd']"
   ]
  },
  {
   "cell_type": "code",
   "execution_count": 4,
   "id": "1a12b83b",
   "metadata": {},
   "outputs": [
    {
     "name": "stdout",
     "output_type": "stream",
     "text": [
      "a\n",
      "b\n",
      "c\n",
      "d\n"
     ]
    }
   ],
   "source": [
    "#print out all elements in list seq\n",
    "\n",
    "for item in seq:\n",
    "    print(item)"
   ]
  },
  {
   "cell_type": "code",
   "execution_count": 11,
   "id": "9cb9ecb3",
   "metadata": {},
   "outputs": [],
   "source": [
    "courses = [(\"CSC245\", 4), (\"CSC438\", 5)]"
   ]
  },
  {
   "cell_type": "code",
   "execution_count": 13,
   "id": "b6b63e61",
   "metadata": {},
   "outputs": [
    {
     "name": "stdout",
     "output_type": "stream",
     "text": [
      "CSC245 : 4\n",
      "CSC438 : 5\n"
     ]
    }
   ],
   "source": [
    "#gets each element from tuple in the list and prints\n",
    "for a, b in courses:\n",
    "    print(a + \" : \" + str(b))"
   ]
  },
  {
   "cell_type": "markdown",
   "id": "475b86c5",
   "metadata": {},
   "source": [
    "### NumPy has a special type called ndarray (N Dimensional Array), taking the inefficient memory of Python, and uses c++ storage for more efficient data storage."
   ]
  },
  {
   "cell_type": "code",
   "execution_count": 15,
   "id": "606a695e",
   "metadata": {},
   "outputs": [],
   "source": [
    "# imports numpy\n",
    "import numpy as np"
   ]
  },
  {
   "cell_type": "code",
   "execution_count": 17,
   "id": "ebac7696",
   "metadata": {},
   "outputs": [],
   "source": [
    "#documentation of numpy\n",
    "np?"
   ]
  },
  {
   "cell_type": "code",
   "execution_count": 19,
   "id": "dd1c00b8",
   "metadata": {},
   "outputs": [],
   "source": [
    "np.random.seed(0)\n",
    "\n",
    "# we can destructure methods from imports by doing\n",
    "from numpy import random"
   ]
  },
  {
   "cell_type": "code",
   "execution_count": 26,
   "id": "fb6e0e3b",
   "metadata": {},
   "outputs": [
    {
     "data": {
      "text/plain": [
       "array([14,  7,  0,  1,  9,  0])"
      ]
     },
     "execution_count": 26,
     "metadata": {},
     "output_type": "execute_result"
    }
   ],
   "source": [
    "#shift-tab will show documentation of a method/function\n",
    "x1 = random.randint(20, size = 6)\n",
    "x1"
   ]
  },
  {
   "cell_type": "code",
   "execution_count": 28,
   "id": "4329c259",
   "metadata": {},
   "outputs": [
    {
     "data": {
      "text/plain": [
       "numpy.ndarray"
      ]
     },
     "execution_count": 28,
     "metadata": {},
     "output_type": "execute_result"
    }
   ],
   "source": [
    "type(x1)"
   ]
  },
  {
   "cell_type": "code",
   "execution_count": 35,
   "id": "b708333f",
   "metadata": {},
   "outputs": [
    {
     "name": "stdout",
     "output_type": "stream",
     "text": [
      "1\n",
      "(6,)\n",
      "6\n"
     ]
    }
   ],
   "source": [
    "#how many dimensions does this array have?\n",
    "print(x1.ndim)\n",
    "print(x1.shape)\n",
    "print(x1.size)"
   ]
  },
  {
   "cell_type": "code",
   "execution_count": 40,
   "id": "94bee8e5",
   "metadata": {},
   "outputs": [
    {
     "data": {
      "text/plain": [
       "array([[6, 7, 2, 0],\n",
       "       [3, 5, 9, 4],\n",
       "       [4, 6, 4, 4]])"
      ]
     },
     "execution_count": 40,
     "metadata": {},
     "output_type": "execute_result"
    }
   ],
   "source": [
    "#x2 will be an array of arrays in the size[row = 3 - 1][column = 4 - 1]\n",
    "x2 = random.randint(10, size = (3,4))\n",
    "x2"
   ]
  },
  {
   "cell_type": "code",
   "execution_count": 41,
   "id": "8fcde629",
   "metadata": {},
   "outputs": [
    {
     "name": "stdout",
     "output_type": "stream",
     "text": [
      "2\n",
      "(3, 4)\n",
      "12\n"
     ]
    }
   ],
   "source": [
    "print(x2.ndim)\n",
    "print(x2.shape)\n",
    "print(x2.size)"
   ]
  },
  {
   "cell_type": "code",
   "execution_count": 43,
   "id": "10348b82",
   "metadata": {},
   "outputs": [
    {
     "data": {
      "text/plain": [
       "dtype('int64')"
      ]
     },
     "execution_count": 43,
     "metadata": {},
     "output_type": "execute_result"
    }
   ],
   "source": [
    "x2.dtype"
   ]
  },
  {
   "cell_type": "code",
   "execution_count": 50,
   "id": "81277528",
   "metadata": {},
   "outputs": [
    {
     "data": {
      "text/plain": [
       "array([7, 0, 1, 9, 0])"
      ]
     },
     "execution_count": 50,
     "metadata": {},
     "output_type": "execute_result"
    }
   ],
   "source": [
    "#slicing NumPy arrays\n",
    "x1\n",
    "x1[1:]"
   ]
  },
  {
   "cell_type": "code",
   "execution_count": 54,
   "id": "87e26910",
   "metadata": {},
   "outputs": [
    {
     "data": {
      "text/plain": [
       "array([9, 4])"
      ]
     },
     "execution_count": 54,
     "metadata": {},
     "output_type": "execute_result"
    }
   ],
   "source": [
    "x2[1:,2:]"
   ]
  }
 ],
 "metadata": {
  "kernelspec": {
   "display_name": "Python 3 (ipykernel)",
   "language": "python",
   "name": "python3"
  },
  "language_info": {
   "codemirror_mode": {
    "name": "ipython",
    "version": 3
   },
   "file_extension": ".py",
   "mimetype": "text/x-python",
   "name": "python",
   "nbconvert_exporter": "python",
   "pygments_lexer": "ipython3",
   "version": "3.9.7"
  }
 },
 "nbformat": 4,
 "nbformat_minor": 5
}
