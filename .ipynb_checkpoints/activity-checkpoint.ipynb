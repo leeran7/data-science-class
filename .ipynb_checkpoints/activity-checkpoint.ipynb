{
 "cells": [
  {
   "cell_type": "markdown",
   "metadata": {},
   "source": [
    "# Exploring the Digits Dataset\n",
    "### In this notebook, you will explore the digits dataset using\n",
    "### multiple models.\n",
    "### Follow the comments and markdown cells. Some of the code has been put in for you.\n",
    "*Note that your output and scores might not be exactly the same as mine, if your random splits are not the same*"
   ]
  },
  {
   "cell_type": "code",
   "execution_count": 1,
   "metadata": {},
   "outputs": [],
   "source": [
    "import numpy as np\n",
    "import pandas as pd\n",
    "import matplotlib.pyplot as plt\n",
    "import seaborn as sns"
   ]
  },
  {
   "cell_type": "code",
   "execution_count": 2,
   "metadata": {},
   "outputs": [
    {
     "data": {
      "text/plain": [
       "(1797, 64)"
      ]
     },
     "execution_count": 2,
     "metadata": {},
     "output_type": "execute_result"
    }
   ],
   "source": [
    "from sklearn.datasets import load_digits\n",
    "from sklearn.cluster import KMeans\n",
    "from sklearn.datasets import load_digits\n",
    "digits = load_digits()\n",
    "digits.data.shape"
   ]
  },
  {
   "cell_type": "markdown",
   "metadata": {},
   "source": [
    "# K means\n",
    "## Clustering the digits Dataset"
   ]
  },
  {
   "cell_type": "code",
   "execution_count": 3,
   "metadata": {},
   "outputs": [],
   "source": [
    "#run kmeans, name your model kmeans so that the code below runs\n",
    "#set n_clusters to 10 \n",
    "\n",
    "\n",
    "#fit and predit\n",
    "#clusters = kmeans.fit_predict(digits.data)\n",
    "\n",
    "\n",
    "#print out the array that is the first cluster center\n",
    "\n",
    "\n",
    "#print out the inertia\n",
    "\n",
    "\n"
   ]
  },
  {
   "cell_type": "code",
   "execution_count": 4,
   "metadata": {},
   "outputs": [],
   "source": [
    "#####run the following code:\n",
    "#####it graphs the centroid points!\n",
    "\n",
    "#fig, ax = plt.subplots(2, 5, figsize=(8, 3)) #plot with subplots, 2 rows 5 columns\n",
    "#centers = kmeans.cluster_centers_.reshape(10, 8, 8) #reshape the cluster centers to three dimensions\n",
    "#for axi, center in zip(ax.flat, centers): #zip returns an interator of tuples so that each tuple has one of the squares and one of the centers\n",
    "#    axi.set(xticks=[], yticks=[]) #no ticks\n",
    "#    axi.imshow(center, interpolation='nearest', cmap=plt.cm.binary) #imshow() function in pyplot module of matplotlib library is used to display data as an image"
   ]
  },
  {
   "cell_type": "markdown",
   "metadata": {},
   "source": [
    "# Logistic Regression"
   ]
  },
  {
   "cell_type": "code",
   "execution_count": 5,
   "metadata": {},
   "outputs": [],
   "source": [
    "from sklearn.model_selection import train_test_split\n",
    "from sklearn.metrics import accuracy_score,confusion_matrix\n",
    "\n",
    "Xtrain, Xtest, ytrain, ytest = train_test_split(digits.data, digits.target, random_state= 42)"
   ]
  },
  {
   "cell_type": "code",
   "execution_count": 6,
   "metadata": {},
   "outputs": [],
   "source": [
    "from sklearn.preprocessing import StandardScaler\n",
    "scaler = StandardScaler()\n",
    "Xtrain = scaler.fit_transform(Xtrain)"
   ]
  },
  {
   "cell_type": "code",
   "execution_count": 7,
   "metadata": {},
   "outputs": [],
   "source": [
    "from sklearn.linear_model import LogisticRegression\n",
    "#instatiate the LogisticRegression Model\n",
    "#fit the model to the training data\n",
    "\n",
    "Xtest = scaler.transform(Xtest) #make sure to scale test data the same way!\n",
    "\n",
    "#predict the test set\n",
    "\n",
    "#print out the confusion matrix for the test set (or plot it)"
   ]
  },
  {
   "cell_type": "code",
   "execution_count": null,
   "metadata": {},
   "outputs": [],
   "source": []
  }
 ],
 "metadata": {
  "kernelspec": {
   "display_name": "Python 3",
   "language": "python",
   "name": "python3"
  },
  "language_info": {
   "codemirror_mode": {
    "name": "ipython",
    "version": 3
   },
   "file_extension": ".py",
   "mimetype": "text/x-python",
   "name": "python",
   "nbconvert_exporter": "python",
   "pygments_lexer": "ipython3",
   "version": "3.8.8"
  }
 },
 "nbformat": 4,
 "nbformat_minor": 4
}
