{
 "cells": [
  {
   "cell_type": "code",
   "execution_count": 5,
   "id": "3614aaad",
   "metadata": {},
   "outputs": [],
   "source": [
    "#how to define a function in python\n",
    "password = \"PASSWORD\"\n",
    "def check_password(passwrd):\n",
    "    if passwrd == password:\n",
    "        print(\"true\")\n",
    "    elif passwrd == \"\":\n",
    "        print(\"please enter a password\")\n",
    "    else: \n",
    "        print('no entry')"
   ]
  },
  {
   "cell_type": "code",
   "execution_count": 9,
   "id": "756665e3",
   "metadata": {},
   "outputs": [
    {
     "name": "stdout",
     "output_type": "stream",
     "text": [
      "true\n"
     ]
    }
   ],
   "source": [
    "check_password(\"PASSWORD\")"
   ]
  },
  {
   "cell_type": "code",
   "execution_count": 10,
   "id": "ae75670e",
   "metadata": {},
   "outputs": [],
   "source": [
    "password = \"PASSWORD\"\n",
    "def chk_password(passwrd):\n",
    "    if passwrd == password:\n",
    "        return True\n",
    "    else:\n",
    "        return False"
   ]
  },
  {
   "cell_type": "code",
   "execution_count": null,
   "id": "12892623",
   "metadata": {},
   "outputs": [],
   "source": []
  }
 ],
 "metadata": {
  "kernelspec": {
   "display_name": "Python 3 (ipykernel)",
   "language": "python",
   "name": "python3"
  },
  "language_info": {
   "codemirror_mode": {
    "name": "ipython",
    "version": 3
   },
   "file_extension": ".py",
   "mimetype": "text/x-python",
   "name": "python",
   "nbconvert_exporter": "python",
   "pygments_lexer": "ipython3",
   "version": "3.9.7"
  }
 },
 "nbformat": 4,
 "nbformat_minor": 5
}
