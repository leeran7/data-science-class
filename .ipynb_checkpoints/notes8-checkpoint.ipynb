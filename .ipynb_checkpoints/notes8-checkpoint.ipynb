{
 "cells": [
  {
   "cell_type": "code",
   "execution_count": 1,
   "id": "14108333",
   "metadata": {},
   "outputs": [],
   "source": [
    "import pandas as pd\n",
    "import numpy as np\n",
    "pres = pd.read_csv(\"president_heights.csv\")\n",
    "salaries = pd.read_csv(\"Salaries2.csv\")\n",
    "titanic = pd.read_csv(\"titanic_clean.csv\")\n",
    "covid = pd.read_csv(\"national-activity-indicators.csv\")\n",
    "covd_by_state = pd.read_csv(\"United_States_COVID-19_Cases_and_Deaths_by_State_over_Time(1).csv\")"
   ]
  }
 ],
 "metadata": {
  "kernelspec": {
   "display_name": "Python 3 (ipykernel)",
   "language": "python",
   "name": "python3"
  },
  "language_info": {
   "codemirror_mode": {
    "name": "ipython",
    "version": 3
   },
   "file_extension": ".py",
   "mimetype": "text/x-python",
   "name": "python",
   "nbconvert_exporter": "python",
   "pygments_lexer": "ipython3",
   "version": "3.9.7"
  }
 },
 "nbformat": 4,
 "nbformat_minor": 5
}
