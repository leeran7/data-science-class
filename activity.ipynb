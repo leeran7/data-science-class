{
 "cells": [
  {
   "cell_type": "markdown",
   "metadata": {},
   "source": [
    "# Exploring the Digits Dataset\n",
    "### In this notebook, you will explore the digits dataset using\n",
    "### multiple models.\n",
    "### Follow the comments and markdown cells. Some of the code has been put in for you.\n",
    "*Note that your output and scores might not be exactly the same as mine, if your random splits are not the same*"
   ]
  },
  {
   "cell_type": "code",
   "execution_count": 1,
   "metadata": {},
   "outputs": [],
   "source": [
    "import numpy as np\n",
    "import pandas as pd\n",
    "import matplotlib.pyplot as plt\n",
    "import seaborn as sns"
   ]
  },
  {
   "cell_type": "code",
   "execution_count": 2,
   "metadata": {},
   "outputs": [
    {
     "data": {
      "text/plain": [
       "(1797, 64)"
      ]
     },
     "execution_count": 2,
     "metadata": {},
     "output_type": "execute_result"
    }
   ],
   "source": [
    "from sklearn.datasets import load_digits\n",
    "from sklearn.cluster import KMeans\n",
    "from sklearn.datasets import load_digits\n",
    "digits = load_digits()\n",
    "digits.data.shape"
   ]
  },
  {
   "cell_type": "markdown",
   "metadata": {},
   "source": [
    "# K means\n",
    "## Clustering the digits Dataset"
   ]
  },
  {
   "cell_type": "code",
   "execution_count": 3,
   "metadata": {},
   "outputs": [
    {
     "name": "stdout",
     "output_type": "stream",
     "text": [
      "[[ 0.00000000e+00  5.55111512e-17  3.07228916e-01  7.16265060e+00\n",
      "   1.19457831e+01  1.93373494e+00  1.50602410e-01  5.42168675e-02\n",
      "   2.60208521e-18  1.20481928e-02  3.28313253e+00  1.37951807e+01\n",
      "   8.46385542e+00  1.53012048e+00  9.75903614e-01  2.77108434e-01\n",
      "   1.30104261e-18  6.44578313e-01  1.07108434e+01  1.15602410e+01\n",
      "   4.33734940e+00  5.25903614e+00  3.87349398e+00  3.25301205e-01\n",
      "   6.02409639e-03  4.75903614e+00  1.47590361e+01  5.86144578e+00\n",
      "   6.87951807e+00  1.07530120e+01  6.21686747e+00  1.80722892e-02\n",
      "   0.00000000e+00  8.92771084e+00  1.48072289e+01  9.35542169e+00\n",
      "   1.28132530e+01  1.43915663e+01  5.48192771e+00  0.00000000e+00\n",
      "   9.63855422e-02  6.50602410e+00  1.16867470e+01  1.23433735e+01\n",
      "   1.48373494e+01  1.07590361e+01  1.56626506e+00  0.00000000e+00\n",
      "   6.02409639e-02  1.11445783e+00  3.00000000e+00  7.77710843e+00\n",
      "   1.40843373e+01  4.13253012e+00  1.80722892e-02 -8.32667268e-17\n",
      "  -1.08420217e-19  2.40963855e-02  3.73493976e-01  7.96385542e+00\n",
      "   1.23253012e+01  1.77108434e+00 -8.88178420e-16 -5.55111512e-17]\n",
      " [ 0.00000000e+00  5.96590909e-01  8.71590909e+00  1.46306818e+01\n",
      "   1.40454545e+01  7.00568182e+00  5.45454545e-01 -5.55111512e-17\n",
      "   1.13636364e-02  4.20454545e+00  1.26022727e+01  9.07386364e+00\n",
      "   1.12386364e+01  1.19602273e+01  1.84659091e+00  1.13636364e-02\n",
      "   5.68181818e-03  1.85795455e+00  3.53977273e+00  3.47159091e+00\n",
      "   1.17897727e+01  9.92613636e+00  8.57954545e-01 -2.08166817e-17\n",
      "  -4.33680869e-19  3.97727273e-02  9.09090909e-01  8.30681818e+00\n",
      "   1.38295455e+01  6.76704545e+00  3.06818182e-01 -8.67361738e-19\n",
      "   0.00000000e+00  6.25000000e-02  6.81818182e-01  4.60227273e+00\n",
      "   1.17613636e+01  1.23125000e+01  2.32954545e+00  0.00000000e+00\n",
      "  -3.46944695e-18  4.54545455e-01  1.44318182e+00  6.93181818e-01\n",
      "   4.17613636e+00  1.23693182e+01  6.36363636e+00  5.68181818e-03\n",
      "   1.73472348e-18  9.26136364e-01  7.28409091e+00  6.59090909e+00\n",
      "   8.59659091e+00  1.37215909e+01  6.09090909e+00  1.76136364e-01\n",
      "  -2.16840434e-19  4.77272727e-01  9.52840909e+00  1.49829545e+01\n",
      "   1.41420455e+01  8.88068182e+00  1.85227273e+00  4.20454545e-01]\n",
      " [ 0.00000000e+00  1.10738255e+00  1.00268456e+01  1.34093960e+01\n",
      "   1.41610738e+01  1.25369128e+01  4.37583893e+00  4.02684564e-02\n",
      "   6.71140940e-03  4.55704698e+00  1.49328859e+01  1.25637584e+01\n",
      "   8.70469799e+00  7.03355705e+00  2.47651007e+00  3.35570470e-02\n",
      "   1.34228188e-02  6.07382550e+00  1.45302013e+01  5.95302013e+00\n",
      "   1.97315436e+00  1.02684564e+00  2.01342282e-01 -2.08166817e-17\n",
      "   6.71140940e-03  5.30201342e+00  1.43355705e+01  1.23624161e+01\n",
      "   7.85906040e+00  2.26174497e+00  1.47651007e-01 -4.33680869e-19\n",
      "   0.00000000e+00  1.94630872e+00  8.15436242e+00  1.00939597e+01\n",
      "   1.02684564e+01  5.51006711e+00  6.37583893e-01  0.00000000e+00\n",
      "  -1.73472348e-18  3.02013423e-01  1.39597315e+00  4.87248322e+00\n",
      "   9.87248322e+00  7.02013423e+00  7.78523490e-01  6.93889390e-18\n",
      "   8.67361738e-19  8.05369128e-01  5.06040268e+00  9.47651007e+00\n",
      "   1.21275168e+01  5.27516779e+00  4.42953020e-01 -1.11022302e-16\n",
      "  -1.08420217e-19  1.05369128e+00  1.08926174e+01  1.45369128e+01\n",
      "   7.83892617e+00  1.08724832e+00  2.01342282e-02  0.00000000e+00]\n",
      " [ 0.00000000e+00  1.96000000e-01  6.47600000e+00  1.24800000e+01\n",
      "   1.18560000e+01  5.69600000e+00  6.84000000e-01  8.00000000e-03\n",
      "   4.00000000e-03  2.59200000e+00  1.39640000e+01  9.25200000e+00\n",
      "   9.44000000e+00  1.04560000e+01  1.33600000e+00  4.00000000e-03\n",
      "   1.30104261e-18  4.28000000e+00  1.28560000e+01  4.50800000e+00\n",
      "   6.89200000e+00  1.11400000e+01  1.90400000e+00  0.00000000e+00\n",
      "   0.00000000e+00  2.31200000e+00  1.03960000e+01  1.17840000e+01\n",
      "   1.31640000e+01  1.20560000e+01  2.45600000e+00  0.00000000e+00\n",
      "   0.00000000e+00  3.00000000e-01  3.17200000e+00  6.17200000e+00\n",
      "   6.84000000e+00  1.12400000e+01  4.23200000e+00  0.00000000e+00\n",
      "   0.00000000e+00  2.28000000e-01  2.37200000e+00  1.98400000e+00\n",
      "   1.76000000e+00  1.10040000e+01  6.37600000e+00  1.60000000e-02\n",
      "   3.46944695e-18  7.60000000e-01  8.10400000e+00  5.66400000e+00\n",
      "   4.76400000e+00  1.22440000e+01  5.97600000e+00  1.12000000e-01\n",
      "   0.00000000e+00  1.68000000e-01  6.38800000e+00  1.34680000e+01\n",
      "   1.44960000e+01  9.94800000e+00  2.30000000e+00  1.12000000e-01]\n",
      " [ 0.00000000e+00  1.60194175e-01  4.88834951e+00  1.28689320e+01\n",
      "   1.40631068e+01  1.09805825e+01  4.98543689e+00  9.41747573e-01\n",
      "   3.46944695e-18  1.12135922e+00  1.06553398e+01  1.15145631e+01\n",
      "   1.04320388e+01  1.25825243e+01  5.52427184e+00  5.38834951e-01\n",
      "   1.73472348e-18  1.17961165e+00  5.45145631e+00  2.30097087e+00\n",
      "   6.78640777e+00  1.15339806e+01  3.42233010e+00  1.11650485e-01\n",
      "  -2.16840434e-19  9.75728155e-01  5.04368932e+00  6.50000000e+00\n",
      "   1.21553398e+01  1.21067961e+01  4.79611650e+00  4.85436893e-03\n",
      "   0.00000000e+00  1.44660194e+00  8.63592233e+00  1.30679612e+01\n",
      "   1.46796117e+01  1.06893204e+01  3.93203883e+00  0.00000000e+00\n",
      "  -1.73472348e-18  1.08252427e+00  5.10194175e+00  1.14611650e+01\n",
      "   1.10388350e+01  3.73300971e+00  5.38834951e-01  1.04083409e-17\n",
      "   4.33680869e-18  1.01941748e-01  2.98058252e+00  1.22572816e+01\n",
      "   6.39805825e+00  4.56310680e-01  9.70873786e-03 -1.38777878e-16\n",
      "  -1.08420217e-19  1.26213592e-01  6.09223301e+00  1.19660194e+01\n",
      "   2.70388350e+00  2.86407767e-01  3.39805825e-02  1.66533454e-16]\n",
      " [ 0.00000000e+00  2.23463687e-02  4.22905028e+00  1.31396648e+01\n",
      "   1.12681564e+01  2.93854749e+00  3.35195531e-02 -5.55111512e-17\n",
      "   2.60208521e-18  8.82681564e-01  1.26201117e+01  1.33687151e+01\n",
      "   1.14078212e+01  1.13687151e+01  9.60893855e-01 -1.38777878e-17\n",
      "   1.30104261e-18  3.72625698e+00  1.42122905e+01  5.25139665e+00\n",
      "   2.10614525e+00  1.21173184e+01  3.53072626e+00 -1.38777878e-17\n",
      "  -4.33680869e-19  5.29608939e+00  1.26424581e+01  2.03351955e+00\n",
      "   2.29050279e-01  9.07821229e+00  6.47486034e+00 -8.67361738e-19\n",
      "   0.00000000e+00  5.88268156e+00  1.14916201e+01  8.65921788e-01\n",
      "   3.35195531e-02  8.81005587e+00  7.15083799e+00  0.00000000e+00\n",
      "  -3.46944695e-18  3.51396648e+00  1.32849162e+01  1.65921788e+00\n",
      "   1.49162011e+00  1.13519553e+01  5.84357542e+00  3.46944695e-18\n",
      "   8.67361738e-19  8.04469274e-01  1.31117318e+01  9.96089385e+00\n",
      "   1.03519553e+01  1.32960894e+01  2.47486034e+00  2.23463687e-02\n",
      "  -2.16840434e-19  5.58659218e-03  4.19553073e+00  1.35865922e+01\n",
      "   1.33407821e+01  5.48044693e+00  3.18435754e-01  1.67597765e-02]\n",
      " [ 0.00000000e+00  0.00000000e+00  3.33333333e-02  1.68888889e+00\n",
      "   1.10333333e+01  1.25000000e+01  4.14444444e+00  2.44444444e-01\n",
      "   8.67361738e-19  5.55555556e-02  1.87777778e+00  8.85555556e+00\n",
      "   1.39333333e+01  1.23888889e+01  5.10000000e+00  3.22222222e-01\n",
      "   4.33680869e-19  1.62222222e+00  8.74444444e+00  1.27555556e+01\n",
      "   1.23000000e+01  1.29111111e+01  3.82222222e+00  1.44444444e-01\n",
      "  -2.16840434e-19  3.62222222e+00  1.21222222e+01  1.19111111e+01\n",
      "   1.31222222e+01  1.35000000e+01  2.50000000e+00 -4.33680869e-19\n",
      "   0.00000000e+00  1.92222222e+00  6.85555556e+00  7.23333333e+00\n",
      "   1.16777778e+01  1.25666667e+01  1.84444444e+00  0.00000000e+00\n",
      "  -1.73472348e-18  8.11111111e-01  1.97777778e+00  3.76666667e+00\n",
      "   1.16666667e+01  1.18666667e+01  1.21111111e+00  0.00000000e+00\n",
      "   0.00000000e+00  6.66666667e-02  3.22222222e-01  2.91111111e+00\n",
      "   1.24777778e+01  1.17111111e+01  1.67777778e+00 -8.32667268e-17\n",
      "  -1.08420217e-19 -5.55111512e-17 -8.88178420e-16  1.76666667e+00\n",
      "   1.12888889e+01  1.07666667e+01  1.74444444e+00 -5.55111512e-17]\n",
      " [ 0.00000000e+00  1.11607143e-01  3.99107143e+00  1.18839286e+01\n",
      "   1.23214286e+01  5.36160714e+00  4.33035714e-01  2.77555756e-17\n",
      "   8.92857143e-03  8.57142857e-01  8.24553571e+00  1.35446429e+01\n",
      "   1.25625000e+01  9.87500000e+00  1.56696429e+00 -2.77555756e-17\n",
      "   1.73472348e-18  1.21428571e+00  8.37053571e+00  1.18839286e+01\n",
      "   1.23348214e+01  9.46428571e+00  1.02678571e+00  6.93889390e-18\n",
      "   2.16840434e-19  9.41964286e-01  7.26339286e+00  1.40848214e+01\n",
      "   1.41785714e+01  4.95535714e+00  2.00892857e-01  4.33680869e-19\n",
      "   0.00000000e+00  7.67857143e-01  8.00446429e+00  1.47812500e+01\n",
      "   1.29107143e+01  2.18750000e+00  1.78571429e-02  0.00000000e+00\n",
      "   1.73472348e-18  1.22767857e+00  1.04553571e+01  1.20178571e+01\n",
      "   1.21294643e+01  4.02678571e+00  2.00892857e-01  1.38777878e-17\n",
      "   1.33928571e-02  8.75000000e-01  9.57142857e+00  1.15714286e+01\n",
      "   1.20758929e+01  5.57589286e+00  6.16071429e-01  4.46428571e-03\n",
      "   4.46428571e-03  1.11607143e-01  4.20089286e+00  1.20089286e+01\n",
      "   1.25982143e+01  4.85714286e+00  8.08035714e-01  8.92857143e-03]\n",
      " [ 0.00000000e+00  9.42857143e-01  1.01885714e+01  1.44400000e+01\n",
      "   7.77142857e+00  9.82857143e-01 -6.66133815e-16 -2.77555756e-17\n",
      "   2.28571429e-02  5.24000000e+00  1.37200000e+01  1.26228571e+01\n",
      "   1.16914286e+01  3.23428571e+00  1.71428571e-02 -1.38777878e-17\n",
      "   1.14285714e-02  4.56000000e+00  8.11428571e+00  6.13714286e+00\n",
      "   1.21600000e+01  3.56000000e+00  1.71428571e-02 -1.38777878e-17\n",
      "  -2.16840434e-19  9.65714286e-01  2.81714286e+00  7.00571429e+00\n",
      "   1.25371429e+01  2.56000000e+00  4.00000000e-02 -4.33680869e-19\n",
      "   0.00000000e+00  4.57142857e-02  1.57142857e+00  9.89714286e+00\n",
      "   1.06971429e+01  1.45142857e+00  0.00000000e+00  0.00000000e+00\n",
      "  -1.73472348e-18  2.51428571e-01  4.45714286e+00  1.12457143e+01\n",
      "   7.74285714e+00  2.37142857e+00  8.45714286e-01  1.14285714e-02\n",
      "   8.67361738e-19  1.19428571e+00  1.09942857e+01  1.37314286e+01\n",
      "   1.19257143e+01  1.11600000e+01  7.66857143e+00  1.10285714e+00\n",
      "  -1.08420217e-19  9.31428571e-01  1.03885714e+01  1.44685714e+01\n",
      "   1.35028571e+01  1.23542857e+01  8.96571429e+00  2.95428571e+00]\n",
      " [ 0.00000000e+00  1.11022302e-16  1.15934066e+00  1.12252747e+01\n",
      "   9.53296703e+00  1.41758242e+00  5.49450549e-03 -5.55111512e-17\n",
      "   2.60208521e-18  6.04395604e-02  7.18131868e+00  1.45604396e+01\n",
      "   6.19230769e+00  8.29670330e-01  2.74725275e-02 -2.77555756e-17\n",
      "   1.30104261e-18  7.69230769e-01  1.24560440e+01  9.47252747e+00\n",
      "   9.34065934e-01  1.09890110e-01  0.00000000e+00 -2.08166817e-17\n",
      "  -6.50521303e-19  2.29670330e+00  1.36208791e+01  8.09340659e+00\n",
      "   3.87362637e+00  1.92857143e+00  1.04395604e-01 -1.30104261e-18\n",
      "   0.00000000e+00  3.52747253e+00  1.46758242e+01  1.29175824e+01\n",
      "   1.22527473e+01  1.02857143e+01  2.71978022e+00  0.00000000e+00\n",
      "  -5.20417043e-18  1.86813187e+00  1.45164835e+01  1.06538462e+01\n",
      "   5.57692308e+00  1.01923077e+01  9.13186813e+00  2.30769231e-01\n",
      "   8.67361738e-19  1.75824176e-01  1.02857143e+01  1.26263736e+01\n",
      "   5.41758242e+00  1.13241758e+01  1.08956044e+01  6.26373626e-01\n",
      "  -3.25260652e-19 -1.11022302e-16  1.44505495e+00  1.07362637e+01\n",
      "   1.50989011e+01  1.31318681e+01  4.62087912e+00  1.70329670e-01]]\n",
      "1165177.7137062165\n"
     ]
    }
   ],
   "source": [
    "#run kmeans, name your model kmeans so that the code below runs\n",
    "#set n_clusters to 10 \n",
    "from sklearn.cluster import KMeans\n",
    "kmeans = KMeans (n_clusters = 10, init = 'k-means++', max_iter = 300, n_init = 10, random_state = 0)\n",
    "y_kmeans = kmeans.fit_predict(digits.data)\n",
    "\n",
    "#fit and predit\n",
    "#clusters = kmeans.fit_predict(digits.data)\n",
    "\n",
    "\n",
    "#print out the array that is the first cluster center\n",
    "print(kmeans.cluster_centers_)\n",
    "\n",
    "#print out the inertia\n",
    "print(kmeans.inertia_)\n",
    "\n"
   ]
  },
  {
   "cell_type": "code",
   "execution_count": 4,
   "metadata": {},
   "outputs": [
    {
     "data": {
      "image/png": "[encoded data removed]",
      "text/plain": [
       "<Figure size 576x216 with 10 Axes>"
      ]
     },
     "metadata": {},
     "output_type": "display_data"
    }
   ],
   "source": [
    "#####run the following code:\n",
    "#####it graphs the centroid points!\n",
    "\n",
    "fig, ax = plt.subplots(2, 5, figsize=(8, 3)) #plot with subplots, 2 rows 5 columns\n",
    "centers = kmeans.cluster_centers_.reshape(10, 8, 8) #reshape the cluster centers to three dimensions\n",
    "for axi, center in zip(ax.flat, centers): #zip returns an interator of tuples so that each tuple has one of the squares and one of the centers\n",
    "   axi.set(xticks=[], yticks=[]) #no ticks\n",
    "   axi.imshow(center, interpolation='nearest', cmap=plt.cm.binary) #imshow() function in pyplot module of matplotlib library is used to display data as an image"
   ]
  },
  {
   "cell_type": "markdown",
   "metadata": {},
   "source": [
    "# Logistic Regression"
   ]
  },
  {
   "cell_type": "code",
   "execution_count": 5,
   "metadata": {},
   "outputs": [],
   "source": [
    "from sklearn.model_selection import train_test_split\n",
    "from sklearn.metrics import accuracy_score,confusion_matrix\n",
    "\n",
    "Xtrain, Xtest, ytrain, ytest = train_test_split(digits.data, digits.target, random_state= 42)"
   ]
  },
  {
   "cell_type": "code",
   "execution_count": 6,
   "metadata": {},
   "outputs": [],
   "source": [
    "from sklearn.preprocessing import StandardScaler\n",
    "scaler = StandardScaler()\n",
    "Xtrain = scaler.fit_transform(Xtrain)"
   ]
  },
  {
   "cell_type": "code",
   "execution_count": 7,
   "metadata": {},
   "outputs": [
    {
     "data": {
      "text/plain": [
       "<sklearn.metrics._plot.confusion_matrix.ConfusionMatrixDisplay at 0x7feaa27b0280>"
      ]
     },
     "execution_count": 7,
     "metadata": {},
     "output_type": "execute_result"
    },
    {
     "data": {
      "image/png": "[encoded data removed]",
      "text/plain": [
       "<Figure size 432x288 with 2 Axes>"
      ]
     },
     "metadata": {
      "needs_background": "light"
     },
     "output_type": "display_data"
    }
   ],
   "source": [
    "from sklearn.linear_model import LogisticRegression\n",
    "from sklearn.metrics import plot_confusion_matrix\n",
    "#instatiate the LogisticRegression Model\n",
    "#fit the model to the training data\n",
    "\n",
    "Xtest = scaler.transform(Xtest) #make sure to scale test data the same way!\n",
    "\n",
    "#predict the test set\n",
    "lgmodel = LogisticRegression(max_iter=1000)\n",
    "lgmodel.fit(Xtrain, ytrain)\n",
    "preds = lgmodel.predict(Xtest)\n",
    "\n",
    "#print out the confusion matrix for the test set (or plot it)\n",
    "plot_confusion_matrix(lgmodel, Xtest, ytest)\n"
   ]
  },
  {
   "cell_type": "markdown",
   "metadata": {},
   "source": [
    "# Part 2\n"
   ]
  },
  {
   "cell_type": "code",
   "execution_count": 8,
   "metadata": {},
   "outputs": [],
   "source": [
    "from sklearn.model_selection import train_test_split\n",
    "from sklearn.tree import DecisionTreeClassifier\n",
    "from sklearn.metrics import accuracy_score,confusion_matrix, f1_score\n",
    "\n",
    "Xtrain, Xtest, Y_train, Y_test = train_test_split(digits.data, digits.target, random_state= 42)\n"
   ]
  },
  {
   "cell_type": "code",
   "execution_count": 9,
   "metadata": {},
   "outputs": [],
   "source": [
    "#instatiate a Decision Tree CLassifier (call it dt so that the code below runs!)\n",
    "treeclassifier = DecisionTreeClassifier()\n",
    "#fit to the training data\n",
    "treeclassifier.fit(Xtrain, Y_train)\n",
    "#get the train predictions\n",
    "y_train_pred = treeclassifier.predict(Xtrain)\n",
    "#get the test predictions\n",
    "y_test_pred = treeclassifier.predict(Xtest)"
   ]
  },
  {
   "cell_type": "code",
   "execution_count": 10,
   "metadata": {},
   "outputs": [
    {
     "ename": "ValueError",
     "evalue": "Target is multiclass but average='binary'. Please choose another average setting, one of [None, 'micro', 'macro', 'weighted'].",
     "output_type": "error",
     "traceback": [
      "\u001b[0;31m---------------------------------------------------------------------------\u001b[0m",
      "\u001b[0;31mValueError\u001b[0m                                Traceback (most recent call last)",
      "\u001b[0;32m/var/folders/zh/pymqnt5d1pdf69dc0b8nm8c00000gn/T/ipykernel_88821/1798209546.py\u001b[0m in \u001b[0;36m<module>\u001b[0;34m\u001b[0m\n\u001b[0;32m----> 1\u001b[0;31m \u001b[0mtree_score\u001b[0m\u001b[0;34m=\u001b[0m \u001b[0mf1_score\u001b[0m\u001b[0;34m(\u001b[0m\u001b[0mY_test\u001b[0m\u001b[0;34m,\u001b[0m\u001b[0my_test_pred\u001b[0m\u001b[0;34m)\u001b[0m\u001b[0;34m\u001b[0m\u001b[0;34m\u001b[0m\u001b[0m\n\u001b[0m\u001b[1;32m      2\u001b[0m \u001b[0mtree_score\u001b[0m\u001b[0;34m\u001b[0m\u001b[0;34m\u001b[0m\u001b[0m\n",
      "\u001b[0;32m~/opt/anaconda3/lib/python3.9/site-packages/sklearn/utils/validation.py\u001b[0m in \u001b[0;36minner_f\u001b[0;34m(*args, **kwargs)\u001b[0m\n\u001b[1;32m     61\u001b[0m             \u001b[0mextra_args\u001b[0m \u001b[0;34m=\u001b[0m \u001b[0mlen\u001b[0m\u001b[0;34m(\u001b[0m\u001b[0margs\u001b[0m\u001b[0;34m)\u001b[0m \u001b[0;34m-\u001b[0m \u001b[0mlen\u001b[0m\u001b[0;34m(\u001b[0m\u001b[0mall_args\u001b[0m\u001b[0;34m)\u001b[0m\u001b[0;34m\u001b[0m\u001b[0;34m\u001b[0m\u001b[0m\n\u001b[1;32m     62\u001b[0m             \u001b[0;32mif\u001b[0m \u001b[0mextra_args\u001b[0m \u001b[0;34m<=\u001b[0m \u001b[0;36m0\u001b[0m\u001b[0;34m:\u001b[0m\u001b[0;34m\u001b[0m\u001b[0;34m\u001b[0m\u001b[0m\n\u001b[0;32m---> 63\u001b[0;31m                 \u001b[0;32mreturn\u001b[0m \u001b[0mf\u001b[0m\u001b[0;34m(\u001b[0m\u001b[0;34m*\u001b[0m\u001b[0margs\u001b[0m\u001b[0;34m,\u001b[0m \u001b[0;34m**\u001b[0m\u001b[0mkwargs\u001b[0m\u001b[0;34m)\u001b[0m\u001b[0;34m\u001b[0m\u001b[0;34m\u001b[0m\u001b[0m\n\u001b[0m\u001b[1;32m     64\u001b[0m \u001b[0;34m\u001b[0m\u001b[0m\n\u001b[1;32m     65\u001b[0m             \u001b[0;31m# extra_args > 0\u001b[0m\u001b[0;34m\u001b[0m\u001b[0;34m\u001b[0m\u001b[0m\n",
      "\u001b[0;32m~/opt/anaconda3/lib/python3.9/site-packages/sklearn/metrics/_classification.py\u001b[0m in \u001b[0;36mf1_score\u001b[0;34m(y_true, y_pred, labels, pos_label, average, sample_weight, zero_division)\u001b[0m\n\u001b[1;32m   1069\u001b[0m     \u001b[0mmodified\u001b[0m \u001b[0;32mwith\u001b[0m\u001b[0;31m \u001b[0m\u001b[0;31m`\u001b[0m\u001b[0;31m`\u001b[0m\u001b[0mzero_division\u001b[0m\u001b[0;31m`\u001b[0m\u001b[0;31m`\u001b[0m\u001b[0;34m.\u001b[0m\u001b[0;34m\u001b[0m\u001b[0;34m\u001b[0m\u001b[0m\n\u001b[1;32m   1070\u001b[0m     \"\"\"\n\u001b[0;32m-> 1071\u001b[0;31m     return fbeta_score(y_true, y_pred, beta=1, labels=labels,\n\u001b[0m\u001b[1;32m   1072\u001b[0m                        \u001b[0mpos_label\u001b[0m\u001b[0;34m=\u001b[0m\u001b[0mpos_label\u001b[0m\u001b[0;34m,\u001b[0m \u001b[0maverage\u001b[0m\u001b[0;34m=\u001b[0m\u001b[0maverage\u001b[0m\u001b[0;34m,\u001b[0m\u001b[0;34m\u001b[0m\u001b[0;34m\u001b[0m\u001b[0m\n\u001b[1;32m   1073\u001b[0m                        \u001b[0msample_weight\u001b[0m\u001b[0;34m=\u001b[0m\u001b[0msample_weight\u001b[0m\u001b[0;34m,\u001b[0m\u001b[0;34m\u001b[0m\u001b[0;34m\u001b[0m\u001b[0m\n",
      "\u001b[0;32m~/opt/anaconda3/lib/python3.9/site-packages/sklearn/utils/validation.py\u001b[0m in \u001b[0;36minner_f\u001b[0;34m(*args, **kwargs)\u001b[0m\n\u001b[1;32m     61\u001b[0m             \u001b[0mextra_args\u001b[0m \u001b[0;34m=\u001b[0m \u001b[0mlen\u001b[0m\u001b[0;34m(\u001b[0m\u001b[0margs\u001b[0m\u001b[0;34m)\u001b[0m \u001b[0;34m-\u001b[0m \u001b[0mlen\u001b[0m\u001b[0;34m(\u001b[0m\u001b[0mall_args\u001b[0m\u001b[0;34m)\u001b[0m\u001b[0;34m\u001b[0m\u001b[0;34m\u001b[0m\u001b[0m\n\u001b[1;32m     62\u001b[0m             \u001b[0;32mif\u001b[0m \u001b[0mextra_args\u001b[0m \u001b[0;34m<=\u001b[0m \u001b[0;36m0\u001b[0m\u001b[0;34m:\u001b[0m\u001b[0;34m\u001b[0m\u001b[0;34m\u001b[0m\u001b[0m\n\u001b[0;32m---> 63\u001b[0;31m                 \u001b[0;32mreturn\u001b[0m \u001b[0mf\u001b[0m\u001b[0;34m(\u001b[0m\u001b[0;34m*\u001b[0m\u001b[0margs\u001b[0m\u001b[0;34m,\u001b[0m \u001b[0;34m**\u001b[0m\u001b[0mkwargs\u001b[0m\u001b[0;34m)\u001b[0m\u001b[0;34m\u001b[0m\u001b[0;34m\u001b[0m\u001b[0m\n\u001b[0m\u001b[1;32m     64\u001b[0m \u001b[0;34m\u001b[0m\u001b[0m\n\u001b[1;32m     65\u001b[0m             \u001b[0;31m# extra_args > 0\u001b[0m\u001b[0;34m\u001b[0m\u001b[0;34m\u001b[0m\u001b[0m\n",
      "\u001b[0;32m~/opt/anaconda3/lib/python3.9/site-packages/sklearn/metrics/_classification.py\u001b[0m in \u001b[0;36mfbeta_score\u001b[0;34m(y_true, y_pred, beta, labels, pos_label, average, sample_weight, zero_division)\u001b[0m\n\u001b[1;32m   1193\u001b[0m     \"\"\"\n\u001b[1;32m   1194\u001b[0m \u001b[0;34m\u001b[0m\u001b[0m\n\u001b[0;32m-> 1195\u001b[0;31m     _, _, f, _ = precision_recall_fscore_support(y_true, y_pred,\n\u001b[0m\u001b[1;32m   1196\u001b[0m                                                  \u001b[0mbeta\u001b[0m\u001b[0;34m=\u001b[0m\u001b[0mbeta\u001b[0m\u001b[0;34m,\u001b[0m\u001b[0;34m\u001b[0m\u001b[0;34m\u001b[0m\u001b[0m\n\u001b[1;32m   1197\u001b[0m                                                  \u001b[0mlabels\u001b[0m\u001b[0;34m=\u001b[0m\u001b[0mlabels\u001b[0m\u001b[0;34m,\u001b[0m\u001b[0;34m\u001b[0m\u001b[0;34m\u001b[0m\u001b[0m\n",
      "\u001b[0;32m~/opt/anaconda3/lib/python3.9/site-packages/sklearn/utils/validation.py\u001b[0m in \u001b[0;36minner_f\u001b[0;34m(*args, **kwargs)\u001b[0m\n\u001b[1;32m     61\u001b[0m             \u001b[0mextra_args\u001b[0m \u001b[0;34m=\u001b[0m \u001b[0mlen\u001b[0m\u001b[0;34m(\u001b[0m\u001b[0margs\u001b[0m\u001b[0;34m)\u001b[0m \u001b[0;34m-\u001b[0m \u001b[0mlen\u001b[0m\u001b[0;34m(\u001b[0m\u001b[0mall_args\u001b[0m\u001b[0;34m)\u001b[0m\u001b[0;34m\u001b[0m\u001b[0;34m\u001b[0m\u001b[0m\n\u001b[1;32m     62\u001b[0m             \u001b[0;32mif\u001b[0m \u001b[0mextra_args\u001b[0m \u001b[0;34m<=\u001b[0m \u001b[0;36m0\u001b[0m\u001b[0;34m:\u001b[0m\u001b[0;34m\u001b[0m\u001b[0;34m\u001b[0m\u001b[0m\n\u001b[0;32m---> 63\u001b[0;31m                 \u001b[0;32mreturn\u001b[0m \u001b[0mf\u001b[0m\u001b[0;34m(\u001b[0m\u001b[0;34m*\u001b[0m\u001b[0margs\u001b[0m\u001b[0;34m,\u001b[0m \u001b[0;34m**\u001b[0m\u001b[0mkwargs\u001b[0m\u001b[0;34m)\u001b[0m\u001b[0;34m\u001b[0m\u001b[0;34m\u001b[0m\u001b[0m\n\u001b[0m\u001b[1;32m     64\u001b[0m \u001b[0;34m\u001b[0m\u001b[0m\n\u001b[1;32m     65\u001b[0m             \u001b[0;31m# extra_args > 0\u001b[0m\u001b[0;34m\u001b[0m\u001b[0;34m\u001b[0m\u001b[0m\n",
      "\u001b[0;32m~/opt/anaconda3/lib/python3.9/site-packages/sklearn/metrics/_classification.py\u001b[0m in \u001b[0;36mprecision_recall_fscore_support\u001b[0;34m(y_true, y_pred, beta, labels, pos_label, average, warn_for, sample_weight, zero_division)\u001b[0m\n\u001b[1;32m   1462\u001b[0m     \u001b[0;32mif\u001b[0m \u001b[0mbeta\u001b[0m \u001b[0;34m<\u001b[0m \u001b[0;36m0\u001b[0m\u001b[0;34m:\u001b[0m\u001b[0;34m\u001b[0m\u001b[0;34m\u001b[0m\u001b[0m\n\u001b[1;32m   1463\u001b[0m         \u001b[0;32mraise\u001b[0m \u001b[0mValueError\u001b[0m\u001b[0;34m(\u001b[0m\u001b[0;34m\"beta should be >=0 in the F-beta score\"\u001b[0m\u001b[0;34m)\u001b[0m\u001b[0;34m\u001b[0m\u001b[0;34m\u001b[0m\u001b[0m\n\u001b[0;32m-> 1464\u001b[0;31m     labels = _check_set_wise_labels(y_true, y_pred, average, labels,\n\u001b[0m\u001b[1;32m   1465\u001b[0m                                     pos_label)\n\u001b[1;32m   1466\u001b[0m \u001b[0;34m\u001b[0m\u001b[0m\n",
      "\u001b[0;32m~/opt/anaconda3/lib/python3.9/site-packages/sklearn/metrics/_classification.py\u001b[0m in \u001b[0;36m_check_set_wise_labels\u001b[0;34m(y_true, y_pred, average, labels, pos_label)\u001b[0m\n\u001b[1;32m   1292\u001b[0m             \u001b[0;32mif\u001b[0m \u001b[0my_type\u001b[0m \u001b[0;34m==\u001b[0m \u001b[0;34m'multiclass'\u001b[0m\u001b[0;34m:\u001b[0m\u001b[0;34m\u001b[0m\u001b[0;34m\u001b[0m\u001b[0m\n\u001b[1;32m   1293\u001b[0m                 \u001b[0maverage_options\u001b[0m\u001b[0;34m.\u001b[0m\u001b[0mremove\u001b[0m\u001b[0;34m(\u001b[0m\u001b[0;34m'samples'\u001b[0m\u001b[0;34m)\u001b[0m\u001b[0;34m\u001b[0m\u001b[0;34m\u001b[0m\u001b[0m\n\u001b[0;32m-> 1294\u001b[0;31m             raise ValueError(\"Target is %s but average='binary'. Please \"\n\u001b[0m\u001b[1;32m   1295\u001b[0m                              \u001b[0;34m\"choose another average setting, one of %r.\"\u001b[0m\u001b[0;34m\u001b[0m\u001b[0;34m\u001b[0m\u001b[0m\n\u001b[1;32m   1296\u001b[0m                              % (y_type, average_options))\n",
      "\u001b[0;31mValueError\u001b[0m: Target is multiclass but average='binary'. Please choose another average setting, one of [None, 'micro', 'macro', 'weighted']."
     ]
    }
   ],
   "source": [
    "tree_score= f1_score(Y_test,y_test_pred)\n",
    "tree_score"
   ]
  },
  {
   "cell_type": "code",
   "execution_count": null,
   "metadata": {},
   "outputs": [],
   "source": [
    "#print the accuracy score and the confusion matrix of ytest\n",
    "print(accuracy_score(ytrain, y_train_pred))\n",
    "confusion_matrix(Y_train, y_train_pred)"
   ]
  },
  {
   "cell_type": "code",
   "execution_count": null,
   "metadata": {},
   "outputs": [],
   "source": [
    "#run the following code to see a text representation of the tree\n",
    "from sklearn import tree \n",
    "text_representation = tree.export_text(treeclassifier)\n",
    "print(text_representation)"
   ]
  },
  {
   "cell_type": "code",
   "execution_count": null,
   "metadata": {},
   "outputs": [],
   "source": [
    "#run the following code to see the tree\n",
    "fig = plt.figure(figsize=(25,20))\n",
    "_ = tree.plot_tree(treeclassifier, feature_names=digits.feature_names, filled=True)"
   ]
  },
  {
   "cell_type": "code",
   "execution_count": null,
   "metadata": {},
   "outputs": [],
   "source": [
    "#use random forest classifier on the digits dataset\n",
    "from sklearn.model_selection import train_test_split\n",
    "from sklearn.ensemble import RandomForestClassifier\n",
    "\n",
    "Xtrain, Xtest, Y_train, Y_test = train_test_split(digits.data, digits.target,\n",
    "                                                random_state=0)\n",
    "#instantiate the RandomForestClassifier model\n",
    "classifier = RandomForestClassifier()\n",
    "#fit the model to the training data\n",
    "classifier.fit(Xtrain, Y_train)\n",
    "#predict to get the prediction values for the test set\n",
    "Y_pred = classifier.predict(Xtest)"
   ]
  },
  {
   "cell_type": "code",
   "execution_count": null,
   "metadata": {},
   "outputs": [],
   "source": [
    "from sklearn.metrics import confusion_matrix, plot_confusion_matrix\n",
    "#print the confusion matrix for the Random Forest Predictions\n",
    "confusion_matrix(Y_test, Y_pred)"
   ]
  },
  {
   "cell_type": "code",
   "execution_count": null,
   "metadata": {},
   "outputs": [],
   "source": []
  }
 ],
 "metadata": {
  "kernelspec": {
   "display_name": "Python 3 (ipykernel)",
   "language": "python",
   "name": "python3"
  },
  "language_info": {
   "codemirror_mode": {
    "name": "ipython",
    "version": 3
   },
   "file_extension": ".py",
   "mimetype": "text/x-python",
   "name": "python",
   "nbconvert_exporter": "python",
   "pygments_lexer": "ipython3",
   "version": "3.9.7"
  }
 },
 "nbformat": 4,
 "nbformat_minor": 4
}
