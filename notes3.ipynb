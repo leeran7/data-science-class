{
 "cells": [
  {
   "cell_type": "code",
   "execution_count": 3,
   "id": "710fcad6",
   "metadata": {},
   "outputs": [],
   "source": [
    "seq = ['a', 'b', 'c', 'd']"
   ]
  },
  {
   "cell_type": "code",
   "execution_count": 4,
   "id": "913bc5a3",
   "metadata": {},
   "outputs": [
    {
     "name": "stdout",
     "output_type": "stream",
     "text": [
      "a\n",
      "b\n",
      "c\n",
      "d\n"
     ]
    }
   ],
   "source": [
    "#print out all elements in list seq\n",
    "\n",
    "for item in seq:\n",
    "    print(item)"
   ]
  },
  {
   "cell_type": "code",
   "execution_count": 11,
   "id": "3df603d8",
   "metadata": {},
   "outputs": [],
   "source": [
    "courses = [(\"CSC245\", 4), (\"CSC438\", 5)]"
   ]
  },
  {
   "cell_type": "code",
   "execution_count": 13,
   "id": "e7f10af2",
   "metadata": {},
   "outputs": [
    {
     "name": "stdout",
     "output_type": "stream",
     "text": [
      "CSC245 : 4\n",
      "CSC438 : 5\n"
     ]
    }
   ],
   "source": [
    "#gets each element from tuple in the list and prints\n",
    "for a, b in courses:\n",
    "    print(a + \" : \" + str(b))"
   ]
  },
  {
   "cell_type": "markdown",
   "id": "353b13b2",
   "metadata": {},
   "source": [
    "### NumPy has a special type called ndarray (N Dimensional Array), taking the inefficient memory of Python, and uses c++ storage for more efficient data storage."
   ]
  },
  {
   "cell_type": "code",
   "execution_count": 15,
   "id": "977d6541",
   "metadata": {},
   "outputs": [],
   "source": [
    "# imports numpy\n",
    "import numpy as np"
   ]
  },
  {
   "cell_type": "code",
   "execution_count": 17,
   "id": "1b904df4",
   "metadata": {},
   "outputs": [],
   "source": [
    "#documentation of numpy\n",
    "np?"
   ]
  },
  {
   "cell_type": "code",
   "execution_count": 19,
   "id": "b57bd234",
   "metadata": {},
   "outputs": [],
   "source": [
    "np.random.seed(0)\n",
    "\n",
    "# we can destructure methods from imports by doing\n",
    "from numpy import random"
   ]
  },
  {
   "cell_type": "code",
   "execution_count": 26,
   "id": "72e7c439",
   "metadata": {},
   "outputs": [
    {
     "data": {
      "text/plain": [
       "array([14,  7,  0,  1,  9,  0])"
      ]
     },
     "execution_count": 26,
     "metadata": {},
     "output_type": "execute_result"
    }
   ],
   "source": [
    "#shift-tab will show documentation of a method/function\n",
    "x1 = random.randint(20, size = 6)\n",
    "x1"
   ]
  },
  {
   "cell_type": "code",
   "execution_count": 28,
   "id": "68e6c645",
   "metadata": {},
   "outputs": [
    {
     "data": {
      "text/plain": [
       "numpy.ndarray"
      ]
     },
     "execution_count": 28,
     "metadata": {},
     "output_type": "execute_result"
    }
   ],
   "source": [
    "type(x1)"
   ]
  },
  {
   "cell_type": "code",
   "execution_count": 35,
   "id": "ee1384bb",
   "metadata": {},
   "outputs": [
    {
     "name": "stdout",
     "output_type": "stream",
     "text": [
      "1\n",
      "(6,)\n",
      "6\n"
     ]
    }
   ],
   "source": [
    "#how many dimensions does this array have?\n",
    "print(x1.ndim)\n",
    "print(x1.shape)\n",
    "print(x1.size)"
   ]
  },
  {
   "cell_type": "code",
   "execution_count": 40,
   "id": "2db4d0ee",
   "metadata": {},
   "outputs": [
    {
     "data": {
      "text/plain": [
       "array([[6, 7, 2, 0],\n",
       "       [3, 5, 9, 4],\n",
       "       [4, 6, 4, 4]])"
      ]
     },
     "execution_count": 40,
     "metadata": {},
     "output_type": "execute_result"
    }
   ],
   "source": [
    "#x2 will be an array of arrays in the size[row = 3 - 1][column = 4 - 1]\n",
    "x2 = random.randint(10, size = (3,4))\n",
    "x2"
   ]
  },
  {
   "cell_type": "code",
   "execution_count": 41,
   "id": "afd3650a",
   "metadata": {},
   "outputs": [
    {
     "name": "stdout",
     "output_type": "stream",
     "text": [
      "2\n",
      "(3, 4)\n",
      "12\n"
     ]
    }
   ],
   "source": [
    "print(x2.ndim)\n",
    "print(x2.shape)\n",
    "print(x2.size)"
   ]
  },
  {
   "cell_type": "code",
   "execution_count": 43,
   "id": "da122637",
   "metadata": {},
   "outputs": [
    {
     "data": {
      "text/plain": [
       "dtype('int64')"
      ]
     },
     "execution_count": 43,
     "metadata": {},
     "output_type": "execute_result"
    }
   ],
   "source": [
    "x2.dtype"
   ]
  },
  {
   "cell_type": "code",
   "execution_count": 50,
   "id": "391e8aea",
   "metadata": {},
   "outputs": [
    {
     "data": {
      "text/plain": [
       "array([7, 0, 1, 9, 0])"
      ]
     },
     "execution_count": 50,
     "metadata": {},
     "output_type": "execute_result"
    }
   ],
   "source": [
    "#slicing NumPy arrays\n",
    "x1\n",
    "x1[1:]"
   ]
  },
  {
   "cell_type": "code",
   "execution_count": 56,
   "id": "52053147",
   "metadata": {},
   "outputs": [
    {
     "data": {
      "text/plain": [
       "array([[9, 4],\n",
       "       [4, 4]])"
      ]
     },
     "execution_count": 56,
     "metadata": {},
     "output_type": "execute_result"
    }
   ],
   "source": [
    "x2[1:,2:]"
   ]
  },
  {
   "cell_type": "code",
   "execution_count": 61,
   "id": "cefda0eb",
   "metadata": {},
   "outputs": [
    {
     "data": {
      "text/plain": [
       "array([[3, 2, 3, 6, 3, 6, 5],\n",
       "       [7, 0, 8, 4, 6, 5, 8],\n",
       "       [2, 3, 9, 7, 5, 3, 4],\n",
       "       [5, 3, 3, 7, 9, 9, 9],\n",
       "       [7, 3, 2, 3, 9, 7, 7]])"
      ]
     },
     "execution_count": 61,
     "metadata": {},
     "output_type": "execute_result"
    }
   ],
   "source": [
    "x3 = random.randint(10, size=(5, 7))\n",
    "x3"
   ]
  },
  {
   "cell_type": "code",
   "execution_count": 68,
   "id": "cd7a7e8b",
   "metadata": {},
   "outputs": [
    {
     "data": {
      "text/plain": [
       "array([[8, 4, 6],\n",
       "       [9, 7, 5]])"
      ]
     },
     "execution_count": 68,
     "metadata": {},
     "output_type": "execute_result"
    }
   ],
   "source": [
    "x3slice = x3[1:3, 2:5]\n",
    "x3slice"
   ]
  },
  {
   "cell_type": "code",
   "execution_count": 73,
   "id": "9f2cac99",
   "metadata": {},
   "outputs": [
    {
     "data": {
      "text/plain": [
       "array([[   8,    4,    6],\n",
       "       [   9, -100,    5]])"
      ]
     },
     "execution_count": 73,
     "metadata": {},
     "output_type": "execute_result"
    }
   ],
   "source": [
    "#slices takes a VIEW of the actual array, it does not copy\n",
    "x3slice[1,1] = -100\n",
    "x3slice"
   ]
  },
  {
   "cell_type": "code",
   "execution_count": 76,
   "id": "ee41e613",
   "metadata": {},
   "outputs": [
    {
     "data": {
      "text/plain": [
       "array([[   3,    2,    3,    6,    3,    6,    5],\n",
       "       [   7,    0,    8,    4,    6,    5,    8],\n",
       "       [   2,    3,    9, -100,    5,    3,    4],\n",
       "       [   5,    3,    3,    7,    9,    9,    9],\n",
       "       [   7,    3,    2,    3,    9,    7,    7]])"
      ]
     },
     "execution_count": 76,
     "metadata": {},
     "output_type": "execute_result"
    }
   ],
   "source": [
    "#the original array changed, by changing x3slice\n",
    "x3"
   ]
  },
  {
   "cell_type": "code",
   "execution_count": 81,
   "id": "927bfe77",
   "metadata": {},
   "outputs": [
    {
     "data": {
      "text/plain": [
       "array([[8, 4, 6],\n",
       "       [9, 1, 5]])"
      ]
     },
     "execution_count": 81,
     "metadata": {},
     "output_type": "execute_result"
    }
   ],
   "source": [
    "#to create a copy of the array from the original\n",
    "x3piece = x3[1:3, 2:5].copy()\n",
    "x3piece[1,1] = 1\n",
    "x3piece"
   ]
  },
  {
   "cell_type": "code",
   "execution_count": 84,
   "id": "c28ae93a",
   "metadata": {},
   "outputs": [
    {
     "data": {
      "text/plain": [
       "array([[   3,    2,    3,    6,    3,    6,    5],\n",
       "       [   7,    0,    8,    4,    6,    5,    8],\n",
       "       [   2,    3,    9, -100,    5,    3,    4],\n",
       "       [   5,    3,    3,    7,    9,    9,    9],\n",
       "       [   7,    3,    2,    3,    9,    7,    7]])"
      ]
     },
     "execution_count": 84,
     "metadata": {},
     "output_type": "execute_result"
    }
   ],
   "source": [
    "#altering x3piece, did NOT alter x3 this time\n",
    "x3"
   ]
  },
  {
   "cell_type": "code",
   "execution_count": 90,
   "id": "ba564e8e",
   "metadata": {},
   "outputs": [
    {
     "data": {
      "text/plain": [
       "array([15, 19, 25, 23,  9,  8, 24, 12, 13, 18, 10,  5, 13, 20, 20])"
      ]
     },
     "execution_count": 90,
     "metadata": {},
     "output_type": "execute_result"
    }
   ],
   "source": [
    "onedarray = random.randint(5,26, size = 15)\n",
    "onedarray"
   ]
  },
  {
   "cell_type": "code",
   "execution_count": 93,
   "id": "d4948025",
   "metadata": {},
   "outputs": [
    {
     "data": {
      "text/plain": [
       "array([20, 21, 22, 23, 24, 25, 26, 27, 28, 29])"
      ]
     },
     "execution_count": 93,
     "metadata": {},
     "output_type": "execute_result"
    }
   ],
   "source": [
    "# creates a range using numpy\n",
    "nums = np.arange(20,30)\n",
    "nums"
   ]
  },
  {
   "cell_type": "code",
   "execution_count": 95,
   "id": "eae3fd9f",
   "metadata": {},
   "outputs": [
    {
     "data": {
      "text/plain": [
       "array([20, 21, 22, 23, 24, 25, 26, 27, 28, 29, 14,  7,  0,  1,  9,  0])"
      ]
     },
     "execution_count": 95,
     "metadata": {},
     "output_type": "execute_result"
    }
   ],
   "source": [
    "#concatenating using numpy\n",
    "np.concatenate((nums, x1))"
   ]
  },
  {
   "cell_type": "code",
   "execution_count": 96,
   "id": "023dd05c",
   "metadata": {},
   "outputs": [
    {
     "data": {
      "text/plain": [
       "array([[6, 7, 2, 0],\n",
       "       [3, 5, 9, 4],\n",
       "       [4, 6, 4, 4]])"
      ]
     },
     "execution_count": 96,
     "metadata": {},
     "output_type": "execute_result"
    }
   ],
   "source": [
    "x2"
   ]
  },
  {
   "cell_type": "code",
   "execution_count": 102,
   "id": "edd78653",
   "metadata": {},
   "outputs": [
    {
     "data": {
      "text/plain": [
       "array([8, 4, 4, 1])"
      ]
     },
     "execution_count": 102,
     "metadata": {},
     "output_type": "execute_result"
    }
   ],
   "source": [
    "x5 = random.randint(10, size = 4)\n",
    "x5"
   ]
  },
  {
   "cell_type": "code",
   "execution_count": 105,
   "id": "8a89b34a",
   "metadata": {},
   "outputs": [
    {
     "ename": "ValueError",
     "evalue": "all the input arrays must have same number of dimensions, but the array at index 0 has 1 dimension(s) and the array at index 1 has 2 dimension(s)",
     "output_type": "error",
     "traceback": [
      "\u001b[0;31m---------------------------------------------------------------------------\u001b[0m",
      "\u001b[0;31mValueError\u001b[0m                                Traceback (most recent call last)",
      "\u001b[0;32m/var/folders/zh/pymqnt5d1pdf69dc0b8nm8c00000gn/T/ipykernel_34709/3787361161.py\u001b[0m in \u001b[0;36m<module>\u001b[0;34m\u001b[0m\n\u001b[1;32m      1\u001b[0m \u001b[0;31m#arrays need to be the same dimensions to concatenate\u001b[0m\u001b[0;34m\u001b[0m\u001b[0;34m\u001b[0m\u001b[0m\n\u001b[0;32m----> 2\u001b[0;31m \u001b[0mnp\u001b[0m\u001b[0;34m.\u001b[0m\u001b[0mconcatenate\u001b[0m\u001b[0;34m(\u001b[0m\u001b[0;34m(\u001b[0m\u001b[0mx5\u001b[0m\u001b[0;34m,\u001b[0m \u001b[0mx2\u001b[0m\u001b[0;34m)\u001b[0m\u001b[0;34m)\u001b[0m\u001b[0;34m\u001b[0m\u001b[0;34m\u001b[0m\u001b[0m\n\u001b[0m",
      "\u001b[0;32m<__array_function__ internals>\u001b[0m in \u001b[0;36mconcatenate\u001b[0;34m(*args, **kwargs)\u001b[0m\n",
      "\u001b[0;31mValueError\u001b[0m: all the input arrays must have same number of dimensions, but the array at index 0 has 1 dimension(s) and the array at index 1 has 2 dimension(s)"
     ]
    }
   ],
   "source": [
    "#arrays need to be the same dimensions to concatenate\n",
    "#default = axis = 0, adding new rows\n",
    "np.concatenate((x5, x2))"
   ]
  },
  {
   "cell_type": "code",
   "execution_count": 109,
   "id": "a3dd9dc3",
   "metadata": {},
   "outputs": [],
   "source": [
    "x6 = random.randint(10, size = (3,8))"
   ]
  },
  {
   "cell_type": "code",
   "execution_count": 112,
   "id": "59f468d9",
   "metadata": {},
   "outputs": [
    {
     "data": {
      "text/plain": [
       "array([[1, 4, 5, 0, 3, 1, 4, 4, 6, 7, 2, 0],\n",
       "       [4, 0, 0, 8, 4, 6, 9, 3, 3, 5, 9, 4],\n",
       "       [3, 2, 1, 2, 1, 3, 4, 1, 4, 6, 4, 4]])"
      ]
     },
     "execution_count": 112,
     "metadata": {},
     "output_type": "execute_result"
    }
   ],
   "source": [
    "#axis = 1 will concatenate adding new columns\n",
    "np.concatenate((x6, x2), axis=1)"
   ]
  },
  {
   "cell_type": "code",
   "execution_count": 129,
   "id": "8e5793e4",
   "metadata": {},
   "outputs": [
    {
     "data": {
      "text/plain": [
       "array([ 0,  0,  1,  7,  9, 14])"
      ]
     },
     "execution_count": 129,
     "metadata": {},
     "output_type": "execute_result"
    }
   ],
   "source": [
    "##x1.sort()\n",
    "#sorted\n",
    "x1"
   ]
  },
  {
   "cell_type": "code",
   "execution_count": 115,
   "id": "679af46e",
   "metadata": {},
   "outputs": [
    {
     "data": {
      "text/plain": [
       "31"
      ]
     },
     "execution_count": 115,
     "metadata": {},
     "output_type": "execute_result"
    }
   ],
   "source": [
    "x1.sum()"
   ]
  },
  {
   "cell_type": "code",
   "execution_count": 128,
   "id": "543f00a9",
   "metadata": {},
   "outputs": [
    {
     "data": {
      "text/plain": [
       "5.166666666666667"
      ]
     },
     "execution_count": 128,
     "metadata": {},
     "output_type": "execute_result"
    }
   ],
   "source": [
    "x1.mean()"
   ]
  },
  {
   "cell_type": "code",
   "execution_count": 127,
   "id": "b4a3f62c",
   "metadata": {},
   "outputs": [
    {
     "data": {
      "text/plain": [
       "array([  0,   0,   1,  49,  81, 196])"
      ]
     },
     "execution_count": 127,
     "metadata": {},
     "output_type": "execute_result"
    }
   ],
   "source": [
    "# x1 ^ 2\n",
    "x1 ** 2"
   ]
  },
  {
   "cell_type": "code",
   "execution_count": 118,
   "id": "af844aac",
   "metadata": {},
   "outputs": [
    {
     "data": {
      "text/plain": [
       "0"
      ]
     },
     "execution_count": 118,
     "metadata": {},
     "output_type": "execute_result"
    }
   ],
   "source": [
    "x1.min()"
   ]
  },
  {
   "cell_type": "code",
   "execution_count": 120,
   "id": "7baa1be9",
   "metadata": {},
   "outputs": [
    {
     "data": {
      "text/plain": [
       "14"
      ]
     },
     "execution_count": 120,
     "metadata": {},
     "output_type": "execute_result"
    }
   ],
   "source": [
    "#or np.max(x1)\n",
    "x1.max()"
   ]
  },
  {
   "cell_type": "code",
   "execution_count": 122,
   "id": "1ea612ef",
   "metadata": {},
   "outputs": [
    {
     "data": {
      "text/plain": [
       "4.0"
      ]
     },
     "execution_count": 122,
     "metadata": {},
     "output_type": "execute_result"
    }
   ],
   "source": [
    "np.median(x1)"
   ]
  },
  {
   "cell_type": "code",
   "execution_count": 130,
   "id": "13292df2",
   "metadata": {},
   "outputs": [
    {
     "data": {
      "text/plain": [
       "array([[6, 7, 2, 0],\n",
       "       [3, 5, 9, 4],\n",
       "       [4, 6, 4, 4]])"
      ]
     },
     "execution_count": 130,
     "metadata": {},
     "output_type": "execute_result"
    }
   ],
   "source": [
    "x2"
   ]
  },
  {
   "cell_type": "code",
   "execution_count": 146,
   "id": "f06f615d",
   "metadata": {},
   "outputs": [
    {
     "data": {
      "text/plain": [
       "array([13, 18, 15,  8])"
      ]
     },
     "execution_count": 146,
     "metadata": {},
     "output_type": "execute_result"
    }
   ],
   "source": [
    "#sums up the colums\n",
    "arr = np.sum(x2, axis=0)\n",
    "arr"
   ]
  },
  {
   "cell_type": "code",
   "execution_count": 134,
   "id": "b3f2a503",
   "metadata": {},
   "outputs": [
    {
     "data": {
      "text/plain": [
       "array([15, 21, 18])"
      ]
     },
     "execution_count": 134,
     "metadata": {},
     "output_type": "execute_result"
    }
   ],
   "source": [
    "#sums up the rows\n",
    "np.sum(x2, axis=1)"
   ]
  },
  {
   "cell_type": "code",
   "execution_count": 136,
   "id": "485d4a2e",
   "metadata": {},
   "outputs": [
    {
     "data": {
      "text/plain": [
       "array([[1, 4, 5, 0, 3, 1, 4, 4],\n",
       "       [4, 0, 0, 8, 4, 6, 9, 3],\n",
       "       [3, 2, 1, 2, 1, 3, 4, 1]])"
      ]
     },
     "execution_count": 136,
     "metadata": {},
     "output_type": "execute_result"
    }
   ],
   "source": [
    "x6"
   ]
  },
  {
   "cell_type": "code",
   "execution_count": 138,
   "id": "b05a35d0",
   "metadata": {},
   "outputs": [
    {
     "data": {
      "text/plain": [
       "0"
      ]
     },
     "execution_count": 138,
     "metadata": {},
     "output_type": "execute_result"
    }
   ],
   "source": [
    "x6[1].min()"
   ]
  },
  {
   "cell_type": "code",
   "execution_count": 142,
   "id": "57a72f9d",
   "metadata": {},
   "outputs": [
    {
     "data": {
      "text/plain": [
       "34"
      ]
     },
     "execution_count": 142,
     "metadata": {},
     "output_type": "execute_result"
    }
   ],
   "source": [
    "#largest row sum\n",
    "np.max(np.sum(x6, axis=1))"
   ]
  },
  {
   "cell_type": "code",
   "execution_count": 149,
   "id": "e95a3cb2",
   "metadata": {},
   "outputs": [
    {
     "name": "stdout",
     "output_type": "stream",
     "text": [
      "[13 18 15  8]\n"
     ]
    },
    {
     "data": {
      "text/plain": [
       "array([ True,  True,  True, False])"
      ]
     },
     "execution_count": 149,
     "metadata": {},
     "output_type": "execute_result"
    }
   ],
   "source": [
    "# gives me booleans for a condition\n",
    "print(arr)\n",
    "arr > 10"
   ]
  },
  {
   "cell_type": "code",
   "execution_count": 155,
   "id": "06d4594a",
   "metadata": {},
   "outputs": [
    {
     "data": {
      "text/plain": [
       "array([13, 18, 15])"
      ]
     },
     "execution_count": 155,
     "metadata": {},
     "output_type": "execute_result"
    }
   ],
   "source": [
    "#slicing the array for certain values\n",
    "arr[arr > 10]"
   ]
  },
  {
   "cell_type": "code",
   "execution_count": 160,
   "id": "82984069",
   "metadata": {},
   "outputs": [
    {
     "data": {
      "text/plain": [
       "3"
      ]
     },
     "execution_count": 160,
     "metadata": {},
     "output_type": "execute_result"
    }
   ],
   "source": [
    "# length of a certain slice\n",
    "len(arr[arr > 10])"
   ]
  },
  {
   "cell_type": "code",
   "execution_count": null,
   "id": "b0a35f34",
   "metadata": {},
   "outputs": [],
   "source": []
  }
 ],
 "metadata": {
  "kernelspec": {
   "display_name": "Python 3 (ipykernel)",
   "language": "python",
   "name": "python3"
  },
  "language_info": {
   "codemirror_mode": {
    "name": "ipython",
    "version": 3
   },
   "file_extension": ".py",
   "mimetype": "text/x-python",
   "name": "python",
   "nbconvert_exporter": "python",
   "pygments_lexer": "ipython3",
   "version": "3.9.7"
  }
 },
 "nbformat": 4,
 "nbformat_minor": 5
}
