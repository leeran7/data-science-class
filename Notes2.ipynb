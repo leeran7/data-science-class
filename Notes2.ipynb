{
 "cells": [
  {
   "cell_type": "markdown",
   "id": "880dc35b",
   "metadata": {},
   "source": [
    "# Notes"
   ]
  },
  {
   "cell_type": "code",
   "execution_count": 5,
   "id": "a8045ca7",
   "metadata": {},
   "outputs": [],
   "source": [
    "#how to define a function in python\n",
    "password = \"PASSWORD\"\n",
    "def check_password(passwrd):\n",
    "    if passwrd == password:\n",
    "        print(\"true\")\n",
    "    elif passwrd == \"\":\n",
    "        print(\"please enter a password\")\n",
    "    else: \n",
    "        print('no entry')"
   ]
  },
  {
   "cell_type": "code",
   "execution_count": 9,
   "id": "61a6e395",
   "metadata": {},
   "outputs": [
    {
     "name": "stdout",
     "output_type": "stream",
     "text": [
      "true\n"
     ]
    }
   ],
   "source": [
    "check_password(\"PASSWORD\")"
   ]
  },
  {
   "cell_type": "code",
   "execution_count": 12,
   "id": "e886ac76",
   "metadata": {},
   "outputs": [],
   "source": [
    "password = \"PASSWORD\"\n",
    "def chk_password(passwrd):\n",
    "    if passwrd == password:\n",
    "        return True\n",
    "    else:\n",
    "        return False"
   ]
  },
  {
   "cell_type": "code",
   "execution_count": 13,
   "id": "e7d00e46",
   "metadata": {},
   "outputs": [
    {
     "data": {
      "text/plain": [
       "True"
      ]
     },
     "execution_count": 13,
     "metadata": {},
     "output_type": "execute_result"
    }
   ],
   "source": [
    "chk_password(\"PASSWORD\")"
   ]
  },
  {
   "cell_type": "code",
   "execution_count": 14,
   "id": "33b8c0ad",
   "metadata": {},
   "outputs": [],
   "source": [
    "word = \"Welcome\""
   ]
  },
  {
   "cell_type": "code",
   "execution_count": 16,
   "id": "c32c0f1d",
   "metadata": {},
   "outputs": [
    {
     "data": {
      "text/plain": [
       "'elc'"
      ]
     },
     "execution_count": 16,
     "metadata": {},
     "output_type": "execute_result"
    }
   ],
   "source": [
    "#slicing:  works the same on a list and a string\n",
    "word[1:4]"
   ]
  },
  {
   "cell_type": "code",
   "execution_count": 17,
   "id": "15070f05",
   "metadata": {},
   "outputs": [
    {
     "data": {
      "text/plain": [
       "'e'"
      ]
     },
     "execution_count": 17,
     "metadata": {},
     "output_type": "execute_result"
    }
   ],
   "source": [
    "#negative indexing, starts at the end of the array/string\n",
    "word[-1]"
   ]
  },
  {
   "cell_type": "code",
   "execution_count": 27,
   "id": "c5608ddd",
   "metadata": {},
   "outputs": [],
   "source": [
    "elements = [0,1,2,3,4,5,6,7]"
   ]
  },
  {
   "cell_type": "code",
   "execution_count": 19,
   "id": "d85339d3",
   "metadata": {},
   "outputs": [
    {
     "data": {
      "text/plain": [
       "8"
      ]
     },
     "execution_count": 19,
     "metadata": {},
     "output_type": "execute_result"
    }
   ],
   "source": [
    "len(elements)"
   ]
  },
  {
   "cell_type": "code",
   "execution_count": 32,
   "id": "48942e65",
   "metadata": {},
   "outputs": [
    {
     "data": {
      "text/plain": [
       "8"
      ]
     },
     "execution_count": 32,
     "metadata": {},
     "output_type": "execute_result"
    }
   ],
   "source": [
    "elements[-1]"
   ]
  },
  {
   "cell_type": "code",
   "execution_count": 22,
   "id": "89f333e5",
   "metadata": {},
   "outputs": [
    {
     "data": {
      "text/plain": [
       "[0, 1, 2, 3, 4]"
      ]
     },
     "execution_count": 22,
     "metadata": {},
     "output_type": "execute_result"
    }
   ],
   "source": [
    "elements[:5]"
   ]
  },
  {
   "cell_type": "code",
   "execution_count": 29,
   "id": "457e2253",
   "metadata": {},
   "outputs": [],
   "source": [
    "#methods to lists\n",
    "elements.append(8)\n",
    "elements.insert(1, 9)"
   ]
  },
  {
   "cell_type": "code",
   "execution_count": 31,
   "id": "aa0935a1",
   "metadata": {},
   "outputs": [
    {
     "name": "stdout",
     "output_type": "stream",
     "text": [
      "[0, 9, 1, 2, 3, 4, 5, 6, 7, 8]\n"
     ]
    }
   ],
   "source": [
    "print(elements)"
   ]
  },
  {
   "cell_type": "code",
   "execution_count": 35,
   "id": "c9bad6b6",
   "metadata": {},
   "outputs": [
    {
     "name": "stdout",
     "output_type": "stream",
     "text": [
      "140640192797312\n"
     ]
    }
   ],
   "source": [
    "print(id(elements))"
   ]
  },
  {
   "cell_type": "code",
   "execution_count": 36,
   "id": "3c913c67",
   "metadata": {},
   "outputs": [],
   "source": [
    "# if you set a variable to a new object, the ID changes\n",
    "elements = [0,1,2,3,4,5,6,7]"
   ]
  },
  {
   "cell_type": "code",
   "execution_count": 37,
   "id": "f82108b4",
   "metadata": {},
   "outputs": [
    {
     "name": "stdout",
     "output_type": "stream",
     "text": [
      "140640179131392\n"
     ]
    }
   ],
   "source": [
    "print(id(elements))"
   ]
  },
  {
   "cell_type": "code",
   "execution_count": 38,
   "id": "c3f06127",
   "metadata": {},
   "outputs": [
    {
     "name": "stdout",
     "output_type": "stream",
     "text": [
      "140640179131392\n"
     ]
    }
   ],
   "source": [
    "#if you add something to an object, the ID does not change\n",
    "elements.append(8)\n",
    "print(id(elements))"
   ]
  },
  {
   "cell_type": "code",
   "execution_count": 41,
   "id": "ea1457b6",
   "metadata": {},
   "outputs": [
    {
     "name": "stdout",
     "output_type": "stream",
     "text": [
      "weight = 120\n",
      "height = 59\n",
      "age = 26\n"
     ]
    }
   ],
   "source": [
    "#Tuple, assign multiple variables with a Tuple\n",
    "#Tuples are immuntable\n",
    "weight, height, age = (120, 59, 26)\n",
    "print(\"weight = \" + str(weight))\n",
    "print(\"height = \" + str(height))\n",
    "print(\"age = \" + str(age))"
   ]
  },
  {
   "cell_type": "code",
   "execution_count": 43,
   "id": "485996d5",
   "metadata": {},
   "outputs": [
    {
     "ename": "TypeError",
     "evalue": "'str' object does not support item assignment",
     "output_type": "error",
     "traceback": [
      "\u001b[0;31m---------------------------------------------------------------------------\u001b[0m",
      "\u001b[0;31mTypeError\u001b[0m                                 Traceback (most recent call last)",
      "\u001b[0;32m/var/folders/zh/pymqnt5d1pdf69dc0b8nm8c00000gn/T/ipykernel_40686/3023828515.py\u001b[0m in \u001b[0;36m<module>\u001b[0;34m\u001b[0m\n\u001b[1;32m      1\u001b[0m \u001b[0;31m#strings are immutable in Python\u001b[0m\u001b[0;34m\u001b[0m\u001b[0;34m\u001b[0m\u001b[0m\n\u001b[1;32m      2\u001b[0m \u001b[0mstring\u001b[0m \u001b[0;34m=\u001b[0m \u001b[0;34m\"afa\"\u001b[0m\u001b[0;34m\u001b[0m\u001b[0;34m\u001b[0m\u001b[0m\n\u001b[0;32m----> 3\u001b[0;31m \u001b[0mstring\u001b[0m\u001b[0;34m[\u001b[0m\u001b[0;36m2\u001b[0m\u001b[0;34m]\u001b[0m \u001b[0;34m=\u001b[0m \u001b[0;34m\"f\"\u001b[0m\u001b[0;34m\u001b[0m\u001b[0;34m\u001b[0m\u001b[0m\n\u001b[0m",
      "\u001b[0;31mTypeError\u001b[0m: 'str' object does not support item assignment"
     ]
    }
   ],
   "source": [
    "#strings are immutable in Python\n",
    "string = \"afa\"\n",
    "string[2] = \"f\""
   ]
  },
  {
   "cell_type": "code",
   "execution_count": 45,
   "id": "094dc5df",
   "metadata": {},
   "outputs": [
    {
     "name": "stdout",
     "output_type": "stream",
     "text": [
      "Wedontcome\n"
     ]
    }
   ],
   "source": [
    "#since strings are immutable, we must use slicing to crete a new variable to manipulate\n",
    "welcome = \"Welcome\"\n",
    "string = welcome[:2] + \"dont\" + welcome[3:]\n",
    "print(string)"
   ]
  },
  {
   "cell_type": "code",
   "execution_count": 46,
   "id": "36cd50a3",
   "metadata": {},
   "outputs": [],
   "source": [
    "alist = [16, 'a', [4,5,'a'], 13, 'b', 'a']"
   ]
  },
  {
   "cell_type": "code",
   "execution_count": 47,
   "id": "2a9140e7",
   "metadata": {},
   "outputs": [
    {
     "data": {
      "text/plain": [
       "['a']"
      ]
     },
     "execution_count": 47,
     "metadata": {},
     "output_type": "execute_result"
    }
   ],
   "source": [
    "#will always give you items/item inside of a list\n",
    "alist[1:2]"
   ]
  },
  {
   "cell_type": "code",
   "execution_count": 49,
   "id": "b475e076",
   "metadata": {},
   "outputs": [
    {
     "name": "stdout",
     "output_type": "stream",
     "text": [
      "{'BK': 12312, 'BX': 645223, 'SI': 45323}\n"
     ]
    }
   ],
   "source": [
    "#dictionary\n",
    "#mutable colleciton of items, but its unordered\n",
    "#keys and values\n",
    "covid_cases = {\"BK\": 12312, \"BX\" : 645223, \"SI\": 45323}\n",
    "print(covid_cases)"
   ]
  },
  {
   "cell_type": "code",
   "execution_count": 51,
   "id": "125c7c41",
   "metadata": {},
   "outputs": [
    {
     "data": {
      "text/plain": [
       "45323"
      ]
     },
     "execution_count": 51,
     "metadata": {},
     "output_type": "execute_result"
    }
   ],
   "source": [
    "covid_cases[\"SI\"]"
   ]
  },
  {
   "cell_type": "code",
   "execution_count": 54,
   "id": "8532f717",
   "metadata": {},
   "outputs": [
    {
     "name": "stdout",
     "output_type": "stream",
     "text": [
      "0\n",
      "1\n",
      "2\n",
      "3\n",
      "4\n",
      "5\n",
      "6\n",
      "7\n"
     ]
    }
   ],
   "source": [
    "elements = [0,1,2,3,4,5,6,7]\n",
    "for el in elements:\n",
    "    print(el)"
   ]
  },
  {
   "cell_type": "code",
   "execution_count": 56,
   "id": "5b156555",
   "metadata": {},
   "outputs": [
    {
     "name": "stdout",
     "output_type": "stream",
     "text": [
      "12312\n",
      "645223\n",
      "45323\n"
     ]
    }
   ],
   "source": [
    "#for loop for values in dictionary\n",
    "for el in covid_cases.values():\n",
    "    print(el)"
   ]
  },
  {
   "cell_type": "code",
   "execution_count": 58,
   "id": "84b85004",
   "metadata": {},
   "outputs": [
    {
     "name": "stdout",
     "output_type": "stream",
     "text": [
      "BK\n",
      "BX\n",
      "SI\n"
     ]
    }
   ],
   "source": [
    "#for loop for keys in dictionary\n",
    "for el in covid_cases:\n",
    "    print(el)"
   ]
  },
  {
   "cell_type": "code",
   "execution_count": 62,
   "id": "77e46905",
   "metadata": {},
   "outputs": [
    {
     "name": "stdout",
     "output_type": "stream",
     "text": [
      "['BK', 'BX', 'SI']\n",
      "[12312, 645223, 45323]\n"
     ]
    }
   ],
   "source": [
    "covid_cases.keys()\n",
    "covid_cases.values()\n",
    "#get a list of the keys\n",
    "print(list(covid_cases.keys()))\n",
    "#get a list of the values\n",
    "print(list(covid_cases.values()))"
   ]
  },
  {
   "cell_type": "code",
   "execution_count": 64,
   "id": "168a00fb",
   "metadata": {},
   "outputs": [
    {
     "name": "stdout",
     "output_type": "stream",
     "text": [
      "16\n",
      "a\n",
      "[4, 5, 'a']\n",
      "13\n",
      "b\n",
      "a\n"
     ]
    }
   ],
   "source": [
    "for el in alist:\n",
    "    print(el)"
   ]
  },
  {
   "cell_type": "code",
   "execution_count": 66,
   "id": "71695516",
   "metadata": {},
   "outputs": [
    {
     "name": "stdout",
     "output_type": "stream",
     "text": [
      "0\n",
      "1\n",
      "2\n",
      "3\n",
      "4\n",
      "5\n",
      "6\n",
      "7\n",
      "8\n",
      "9\n"
     ]
    }
   ],
   "source": [
    "for i in range(10):\n",
    "    print(i)"
   ]
  },
  {
   "cell_type": "code",
   "execution_count": 70,
   "id": "f4225af8",
   "metadata": {},
   "outputs": [
    {
     "name": "stdout",
     "output_type": "stream",
     "text": [
      "645223\n",
      "45323\n"
     ]
    }
   ],
   "source": [
    "#conditions\n",
    "for el in covid_cases.values():\n",
    "    if el > 20000:\n",
    "        print(el)"
   ]
  },
  {
   "cell_type": "code",
   "execution_count": 88,
   "id": "4950bdf1",
   "metadata": {},
   "outputs": [
    {
     "data": {
      "text/plain": [
       "['a', 'b', 13, [4, 5, 'a'], 'a', 16]"
      ]
     },
     "execution_count": 88,
     "metadata": {},
     "output_type": "execute_result"
    }
   ],
   "source": [
    "#mutates list and reverses\n",
    "alist.reverse()\n",
    "alist"
   ]
  },
  {
   "cell_type": "code",
   "execution_count": 94,
   "id": "23870f2a",
   "metadata": {},
   "outputs": [
    {
     "name": "stdout",
     "output_type": "stream",
     "text": [
      "['Leeran', 'Farin', 'Arielle', 'Lia', 'Merav']\n"
     ]
    }
   ],
   "source": [
    "words = [\"Leeran\", \"Farin\", \"Arielle\", \"Lia\", \"Merav\"]\n",
    "def long_words(n, lst):\n",
    "    word_list = []\n",
    "    for word in lst:\n",
    "        if len(word) > n:\n",
    "            word_list.append(word)\n",
    "    return word_list\n",
    "\n",
    "print(long_words(2, words))"
   ]
  },
  {
   "cell_type": "code",
   "execution_count": 98,
   "id": "3ebaee4c",
   "metadata": {},
   "outputs": [
    {
     "name": "stdout",
     "output_type": "stream",
     "text": [
      "['Leeran', 'Farin', 'Arielle', 'Merav']\n"
     ]
    }
   ],
   "source": [
    "#same as the above\n",
    "#newWords = [expression for item in iterable if condition == True]\n",
    "newWords = [word for word in words if len(word) > 4]\n",
    "print(newWords)"
   ]
  },
  {
   "cell_type": "code",
   "execution_count": null,
   "id": "6780e90b",
   "metadata": {},
   "outputs": [],
   "source": []
  }
 ],
 "metadata": {
  "kernelspec": {
   "display_name": "Python 3 (ipykernel)",
   "language": "python",
   "name": "python3"
  },
  "language_info": {
   "codemirror_mode": {
    "name": "ipython",
    "version": 3
   },
   "file_extension": ".py",
   "mimetype": "text/x-python",
   "name": "python",
   "nbconvert_exporter": "python",
   "pygments_lexer": "ipython3",
   "version": "3.9.7"
  }
 },
 "nbformat": 4,
 "nbformat_minor": 5
}
